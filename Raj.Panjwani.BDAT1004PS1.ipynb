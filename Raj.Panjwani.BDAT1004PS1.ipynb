{
 "cells": [
  {
   "cell_type": "markdown",
   "id": "d7faea64",
   "metadata": {},
   "source": [
    "# Question 1\n",
    "\n",
    "What data type is each of the following?"
   ]
  },
  {
   "cell_type": "code",
   "execution_count": 2,
   "id": "105b1fb5",
   "metadata": {},
   "outputs": [
    {
     "name": "stdout",
     "output_type": "stream",
     "text": [
      " Type of x=5 :  <class 'int'>\n",
      " Type of x=5.0 :  <class 'float'>\n",
      " Type of x=5>1 :  <class 'bool'>\n",
      " Type of x= '5'  <class 'str'>\n",
      " Type of x=5*2 :  <class 'int'>\n",
      " Type of x='5'*2 :  <class 'str'>\n",
      " Type of x='5'+'2' :  <class 'str'>\n",
      " Type of x=5/2 :  <class 'float'>\n",
      " Type of x=5%2 :  <class 'int'>\n",
      " Type of x={5, 2, 1} :  <class 'set'>\n",
      " Type of 5==3 : <class 'bool'>\n"
     ]
    }
   ],
   "source": [
    "x=5\n",
    "print(\" Type of x=5 : \",type(x))\n",
    "x=5.0\n",
    "print(\" Type of x=5.0 : \",type(x))\n",
    "x=5 > 1\n",
    "print(\" Type of x=5>1 : \",type(x))\n",
    "x='5'\n",
    "print(\" Type of x= '5' \",type(x))\n",
    "x=5 * 2\n",
    "print(\" Type of x=5*2 : \",type(x))\n",
    "x='5' * 2\n",
    "print(\" Type of x='5'*2 : \",type(x))\n",
    "x='5' + '2'\n",
    "print(\" Type of x='5'+'2' : \",type(x))\n",
    "x=5 / 2\n",
    "print(\" Type of x=5/2 : \",type(x))\n",
    "x=5 % 2\n",
    "print(\" Type of x=5%2 : \",type(x))\n",
    "x={5, 2, 1}\n",
    "print(\" Type of x={5, 2, 1} : \",type(x))\n",
    "print(\" Type of 5==3 :\",type(5 == 3))\n"
   ]
  },
  {
   "cell_type": "markdown",
   "id": "009662de",
   "metadata": {},
   "source": [
    "# Question 2 "
   ]
  },
  {
   "cell_type": "code",
   "execution_count": 2,
   "id": "9a879e67",
   "metadata": {},
   "outputs": [],
   "source": [
    "str1='Supercalifragilisticexpialidocious'\n",
    "str2='Honorificabilitudinitatibus'\n",
    "str3='Bababadalgharaghtakamminarronnkonn' "
   ]
  },
  {
   "cell_type": "markdown",
   "id": "da731ce6",
   "metadata": {},
   "source": [
    "##### Solution A :  How many letters are there in 'Supercalifragilisticexpialidocious'?\n"
   ]
  },
  {
   "cell_type": "code",
   "execution_count": 3,
   "id": "42c58507",
   "metadata": {},
   "outputs": [
    {
     "name": "stdout",
     "output_type": "stream",
     "text": [
      "34\n"
     ]
    }
   ],
   "source": [
    "print(len(str1))"
   ]
  },
  {
   "cell_type": "markdown",
   "id": "20879395",
   "metadata": {},
   "source": [
    "##### Solution B : Does 'Supercalifragilisticexpialidocious' contain 'ice' as a substring? "
   ]
  },
  {
   "cell_type": "code",
   "execution_count": 4,
   "id": "2cb2e131",
   "metadata": {},
   "outputs": [
    {
     "name": "stdout",
     "output_type": "stream",
     "text": [
      "True\n"
     ]
    }
   ],
   "source": [
    "print('ice' in str1)"
   ]
  },
  {
   "cell_type": "markdown",
   "id": "be698948",
   "metadata": {},
   "source": [
    "##### Solution C : Which of the following words is the longest:Supercalifragilisticexpialidocious, Honorificabilitudinitatibus, or Bababadalgharaghtakamminarronnkonn? \n"
   ]
  },
  {
   "cell_type": "code",
   "execution_count": 5,
   "id": "ea7a8d08",
   "metadata": {},
   "outputs": [
    {
     "name": "stdout",
     "output_type": "stream",
     "text": [
      "String 1 and 3 are longest\n"
     ]
    }
   ],
   "source": [
    "\n",
    "\n",
    "max_length=max(len(str1),len(str2),len(str3))\n",
    "if len(str1)==len(str2)==len(str3)==max_length:\n",
    "    print(\"All have same length so all string are longest\")\n",
    "elif len(str1)==max_length:\n",
    "    if len(str2) == max_length:\n",
    "        print(\"String 1 and 2 are longest\")\n",
    "    elif len(str3) == max_length:\n",
    "        print(\"String 1 and 3 are longest\")\n",
    "    else:\n",
    "        print(\"String 1 is longest\")\n",
    "        \n",
    "elif len(str2)==max_length:\n",
    "    if len(str3) == max_length:\n",
    "        print(\"String 2 and 3 are longest\")\n",
    "    else:\n",
    "        print(\"String 2 is longest\")\n",
    "else:\n",
    "    print(\"String 3 is longest\")"
   ]
  },
  {
   "cell_type": "markdown",
   "id": "507bb720",
   "metadata": {},
   "source": [
    "####   Solution D. Which composer comes first in the dictionary: 'Berlioz', 'Borodin', 'Brian','Bartok', 'Bellini', 'Buxtehude', 'Bernstein'. Which one comes last?\n"
   ]
  },
  {
   "cell_type": "markdown",
   "id": "41172ffb",
   "metadata": {},
   "source": [
    "Dictionary is a key value pair and we cannot change the order of Items if we put the values in dictionary as same in given question then first key would be Berlioz  and last key would be Bernstein \n",
    "\n",
    "- The sorting of values in list is done below"
   ]
  },
  {
   "cell_type": "code",
   "execution_count": 6,
   "id": "cc955b96",
   "metadata": {},
   "outputs": [
    {
     "name": "stdout",
     "output_type": "stream",
     "text": [
      "First Composer :  Bartok\n",
      "First Composer :  Buxtehude\n"
     ]
    }
   ],
   "source": [
    "\n",
    "\n",
    "\n",
    "\n",
    "composer=['Berlioz', 'Borodin', 'Brian','Bartok', 'Bellini', 'Buxtehude', 'Bernstein']\n",
    "composer.sort()\n",
    "print('First Composer : ',composer[0])\n",
    "print('First Composer : ',composer[-1])"
   ]
  },
  {
   "cell_type": "markdown",
   "id": "9b23c7c8",
   "metadata": {},
   "source": [
    "# Question 3\n",
    "\n",
    "Implement function triangleArea(a,b,c) that takes as input the lengths of the 3\n",
    "sides of a triangle and returns the area of the triangle. By Heron's formula, the area\n",
    "of a triangle with side lengths a, b, and c is\n",
    "s(s - a)(s -b)(s -c)\n",
    ", where\n",
    "s = (a+b+c)/2. "
   ]
  },
  {
   "cell_type": "code",
   "execution_count": 7,
   "id": "c283be8d",
   "metadata": {},
   "outputs": [
    {
     "name": "stdout",
     "output_type": "stream",
     "text": [
      "Enter length of first side of a triangle : 2\n",
      "Enter length of Second side of a triangle : 2\n",
      "Enter length of third side of a triangle : 2\n",
      "Area of triangle is 1.7320508075688772\n"
     ]
    }
   ],
   "source": [
    "import math\n",
    "def  triangleArea(a,b,c):\n",
    "    s = (a+b+c)/2\n",
    "    area=math.sqrt(s*(s - a)*(s -b)*(s -c))\n",
    "    print(f\"Area of triangle is {area}\")\n",
    "\n",
    "\n",
    "a=float(input(\"Enter length of first side of a triangle : \"))\n",
    "b=float(input(\"Enter length of Second side of a triangle : \"))\n",
    "c=float(input(\"Enter length of third side of a triangle : \"))\n",
    "\n",
    "\n",
    "triangleArea(a,b,c)\n"
   ]
  },
  {
   "cell_type": "markdown",
   "id": "87b069d1",
   "metadata": {},
   "source": [
    "# Question 4\n",
    "Write a program in C# Sharp to separate odd and even integers in separate arrays.\n",
    "\n",
    "Go to the editor\n",
    "\n",
    "Test Data :\n",
    "\n",
    "Input the number of elements to be stored in the array :5\n",
    "\n",
    "Input 5 elements in the array :\n",
    "\n",
    "element - 0 : 25\n",
    "\n",
    "element - 1 : 47\n",
    "\n",
    "element - 2 : 42\n",
    "\n",
    "element - 3 : 56\n",
    "\n",
    "element - 4 : 32\n"
   ]
  },
  {
   "cell_type": "code",
   "execution_count": 8,
   "id": "fcb8bd80",
   "metadata": {},
   "outputs": [
    {
     "name": "stdout",
     "output_type": "stream",
     "text": [
      "Enter 1 Natural Number 25\n",
      "Enter 2 Natural Number 47\n",
      "Enter 3 Natural Number 42\n",
      "Enter 4 Natural Number 56\n",
      "Enter 5 Natural Number 32\n",
      "Input List is :  [25, 47, 42, 56, 32]\n",
      "ODD List is :  [25, 47]\n",
      "EVEN List is :  [42, 56, 32]\n"
     ]
    }
   ],
   "source": [
    "input_list=[]\n",
    "odd_list=[]\n",
    "even_list=[]\n",
    "for i in range(1,6):\n",
    "    input_list.append(int(input(f\"Enter {i} Natural Number \")))\n",
    "\n",
    "for j in input_list:\n",
    "    if j%2==0:\n",
    "        even_list.append(j)\n",
    "    else:\n",
    "        odd_list.append(j)\n",
    "print('Input List is : ',input_list)\n",
    "print('ODD List is : ',odd_list)\n",
    "print('EVEN List is : ',even_list)\n",
    "\n"
   ]
  },
  {
   "cell_type": "markdown",
   "id": "e4dc6316",
   "metadata": {},
   "source": [
    "# Question 5\n",
    "a. Write a function inside(x,y,x1,y1,x2,y2) that returns True or False\n",
    "depending on whether the point (x,y) lies in the rectangle with lower left\n",
    "corner (x1,y1) and upper right corner (x2,y2).\n",
    "\n",
    "b. Use function inside() from part a. to write an expression that tests whether\n",
    "the point (1,1) lies in both of the following rectangles: one with lower left\n",
    "corner (0.3, 0.5) and upper right corner (1.1, 0.7) and the other with lower\n",
    "left corner (0.5, 0.2) and upper right corner (1.1, 2). "
   ]
  },
  {
   "cell_type": "code",
   "execution_count": 1,
   "id": "c080c072",
   "metadata": {},
   "outputs": [
    {
     "name": "stdout",
     "output_type": "stream",
     "text": [
      "-----------------------------------\n",
      " Enter The co-ordinates for 1 time\n",
      "Enter the X co-ordinate of unknown point : 1\n",
      "Enter the Y co-ordinate of unknown point : 1\n",
      "Enter the X1 co-ordinate of lower left corner point : 0\n",
      "Enter the Y1 co-ordinate of lower left corner point : 0\n",
      "Enter the X2 co-ordinate of upper right corner point : 2\n",
      "Enter the Y2 co-ordinate of upper rightr corner point : 3\n",
      "Point is in the rectangle  \n",
      "True\n",
      "-----------------------------------\n",
      " Enter The co-ordinates for 2 time\n",
      "Enter the X co-ordinate of unknown point : -1\n",
      "Enter the Y co-ordinate of unknown point : -1\n",
      "Enter the X1 co-ordinate of lower left corner point : 0\n",
      "Enter the Y1 co-ordinate of lower left corner point : 0\n",
      "Enter the X2 co-ordinate of upper right corner point : 2\n",
      "Enter the Y2 co-ordinate of upper rightr corner point : 3\n",
      "Point is out of Rectangle \n",
      "False\n",
      "-----------------------------------\n",
      " Enter The co-ordinates for 3 time\n",
      "Enter the X co-ordinate of unknown point : 1\n",
      "Enter the Y co-ordinate of unknown point : 1\n",
      "Enter the X1 co-ordinate of lower left corner point : 0.3\n",
      "Enter the Y1 co-ordinate of lower left corner point : 0.5\n",
      "Enter the X2 co-ordinate of upper right corner point : 1.1\n",
      "Enter the Y2 co-ordinate of upper rightr corner point : 0.7\n",
      "Point is out of Rectangle \n",
      "False\n",
      "-----------------------------------\n",
      " Enter The co-ordinates for 4 time\n",
      "Enter the X co-ordinate of unknown point : 1\n",
      "Enter the Y co-ordinate of unknown point : 1\n",
      "Enter the X1 co-ordinate of lower left corner point : 0.5\n",
      "Enter the Y1 co-ordinate of lower left corner point : 0.2\n",
      "Enter the X2 co-ordinate of upper right corner point : 1.1\n",
      "Enter the Y2 co-ordinate of upper rightr corner point : 2\n",
      "Point is in the rectangle  \n",
      "True\n"
     ]
    }
   ],
   "source": [
    "def inside(x,y,x1,y1,x2,y2):\n",
    "    if (x>x1) and (y>y1) and (x<x2) and (y<y2):\n",
    "        print(\"Point is in the rectangle  \")\n",
    "        return True\n",
    "    else:\n",
    "        print(\"Point is out of Rectangle \")\n",
    "        return False\n",
    "\n",
    "for i in range(1,5):\n",
    "    print(\"-----------------------------------\")\n",
    "    print(\" Enter The co-ordinates for {} time\".format(i))\n",
    "    x=float(input('Enter the X co-ordinate of unknown point : '))\n",
    "    y=float(input('Enter the Y co-ordinate of unknown point : '))\n",
    "    x1=float(input('Enter the X1 co-ordinate of lower left corner point : '))\n",
    "    y1=float(input('Enter the Y1 co-ordinate of lower left corner point : '))\n",
    "    x2=float(input('Enter the X2 co-ordinate of upper right corner point : '))\n",
    "    y2=float(input('Enter the Y2 co-ordinate of upper rightr corner point : '))\n",
    "\n",
    "    result=inside(x,y,x1,y1,x2,y2)\n",
    "    print(result)"
   ]
  },
  {
   "cell_type": "markdown",
   "id": "f8089a10",
   "metadata": {},
   "source": [
    "# Question 6\n",
    "\n",
    "You can turn a word into pig-Latin using the following two rules (simplified):\n",
    "• If the word starts with a consonant, move that letter to the end and append\n",
    "'ay'. For example, 'happy' becomes 'appyhay' and 'pencil' becomes 'encilpay'.\n",
    "• If the word starts with a vowel, simply append 'way' to the end of the word.\n",
    "For example, 'enter' becomes 'enterway' and 'other' becomes 'otherway' . For\n",
    "our purposes, there are 5 vowels: a, e, i, o, u (so we count y as a consonant).\n",
    "Write a function pig() that takes a word (i.e., a string) as input and returns its pigLatin form. Your function should still work if the input word contains upper case\n",
    "characters. Your output should always be lower case however. "
   ]
  },
  {
   "cell_type": "code",
   "execution_count": 5,
   "id": "1e9fc092",
   "metadata": {},
   "outputs": [
    {
     "name": "stdout",
     "output_type": "stream",
     "text": [
      "-------------------------\n",
      " Enter String 1 \n",
      "Enter the sentense : happy\n",
      "['h', 'a', 'p', 'p', 'y']\n",
      "appyhay\n",
      "Not in vowel\n",
      "-------------------------\n",
      " Enter String 2 \n",
      "Enter the sentense : Enter\n",
      "['e', 'n', 't', 'e', 'r']\n",
      "enterway\n"
     ]
    }
   ],
   "source": [
    "vowel=['a','e','i','o','u']\n",
    "\n",
    "def pig(input_str):\n",
    "    vowelString=''\n",
    "    consonantString=''\n",
    "    split_str=[j for j in input_str]\n",
    "    print(split_str)\n",
    "    if split_str[0] in vowel:\n",
    "        for i in range(0,len(split_str)):\n",
    "            vowelString=vowelString+split_str[i]\n",
    "        vowelString=vowelString+'way'\n",
    "        print(vowelString)\n",
    "    else:\n",
    "        for i in range(1,len(split_str)):\n",
    "            consonantString=consonantString+split_str[i]\n",
    "        consonantString=consonantString+split_str[0]+'ay'\n",
    "        print(consonantString)\n",
    "        print(\"Not in vowel\")\n",
    "    \n",
    "    \n",
    "for i in range(1,3):\n",
    "    print('-------------------------')\n",
    "    print(\" Enter String {} \".format(i))\n",
    "    input_str=input(\"Enter the sentense : \")\n",
    "    input_str=input_str.lower()\n",
    "    pig(input_str)"
   ]
  },
  {
   "cell_type": "markdown",
   "id": "67a107ec",
   "metadata": {},
   "source": [
    "# Question 7\n",
    "\n",
    "File bloodtype1.txt records blood-types of patients (A, B, AB, O or OO) at a clinic.\n",
    "Write a function bldcount() that reads the file with name name and reports (i.e.,\n",
    "prints) how many patients there are in each bloodtype.\n",
    ">>> bldcount('bloodtype.txt')\n",
    "There are 10 patients of blood type A.\n",
    "There is one patient of blood type B.\n",
    "There are 10 patients of blood type AB.\n",
    "There are 12 patients of blood type O.\n",
    "There are no patients of blood type OO.\n"
   ]
  },
  {
   "cell_type": "code",
   "execution_count": 3,
   "id": "58d2470d",
   "metadata": {},
   "outputs": [
    {
     "name": "stdout",
     "output_type": "stream",
     "text": [
      "['AB', 'AB', 'B', 'O', 'A', 'A', 'AB', 'O', 'AB', 'A', 'O', 'O', 'A', 'A', 'A', 'O', 'O', 'O', 'AB', 'O', 'A', 'A', 'A', 'A', 'A', 'AB', 'AB', 'A', 'AB', 'O', 'AB', 'O', 'A', 'O', 'O', 'O', 'AB', 'O', 'AB', 'AB', 'AB', 'A', 'A', 'O', '']\n",
      "Dictionary of Blood Group and their values :  [{'A': 15}, {'B': 1}, {'AB': 13}, {'O': 15}, {'OO': 0}]\n",
      "There are 15 patient of blood group A\n",
      "There are 1 patient of blood group B\n",
      "There are 13 patient of blood group AB\n",
      "There are 15 patient of blood group O\n",
      "There are 0 patient of blood group OO\n"
     ]
    }
   ],
   "source": [
    "A_count=0\n",
    "B_count=0\n",
    "AB_count=0\n",
    "O_count=0\n",
    "OO_count=0 \n",
    "blood_group_dict=[]\n",
    "blood_group= ['A','B','AB','O','OO']\n",
    "def bldcount():\n",
    "    with open('bloodtype1.txt') as f:\n",
    "        content = f.readlines()\n",
    "    content_split=content[0].split(' ')\n",
    "    print(content_split)\n",
    "    for i in blood_group:\n",
    "        count=0\n",
    "        for j in content_split:\n",
    "            if i ==j:\n",
    "\n",
    "                count=count+1\n",
    "        blood_group_dict.append({i:count})\n",
    "    print(\"Dictionary of Blood Group and their values : \",blood_group_dict)\n",
    "    for dict_values in blood_group_dict:\n",
    "        for keys,values in dict_values.items():\n",
    "            print('There are {} patient of blood group {}'.format(values,keys))\n",
    "bldcount()"
   ]
  },
  {
   "cell_type": "markdown",
   "id": "0dea9d7d",
   "metadata": {},
   "source": [
    "# Question 8\n",
    "\n",
    "Write a function curconv() that takes as input:\n",
    "1. a currency represented using a string (e.g., 'JPY' for the Japanese Yen or\n",
    "'EUR' for the Euro)\n",
    "2. an amount\n",
    "and then converts and returns the amount in US dollars.\n"
   ]
  },
  {
   "cell_type": "code",
   "execution_count": 1,
   "id": "fd9eafaf",
   "metadata": {},
   "outputs": [
    {
     "name": "stdout",
     "output_type": "stream",
     "text": [
      "Enter Country Code Eur\n",
      "Enter the ammount : 100\n",
      "Converted Ammount is :  122.96544\n",
      "Enter Country Code JPY\n",
      "Enter the ammount : 100\n",
      "Converted Ammount is :  1.241401\n"
     ]
    }
   ],
   "source": [
    "dictionary=[]\n",
    "\n",
    "with open('curriencies.txt') as f:\n",
    "        content = f.readlines()\n",
    "for lines in content:\n",
    "    single_line=lines.split('\\t')\n",
    "    dictionary.append({single_line[0]:float(single_line[1])})\n",
    "# print(dictionary)\n",
    "\n",
    "def curconv(country_code,ammount):\n",
    "    for list_values in dictionary:\n",
    "        for k,p in list_values.items():\n",
    "            \n",
    "            if k==country_code:\n",
    "                return ammount*p\n",
    "            else :\n",
    "                pass\n",
    "            \n",
    "    \n",
    "\n",
    "for i in range(0,2):\n",
    "\n",
    "    country_code=input(\"Enter Country Code \").upper()\n",
    "    ammount=int(input('Enter the ammount : '))\n",
    "    final_ammount=curconv(country_code,ammount)\n",
    "    print('Converted Ammount is : ', final_ammount)"
   ]
  },
  {
   "cell_type": "markdown",
   "id": "6ecfc7b5",
   "metadata": {},
   "source": [
    "# Question 9\n",
    "\n",
    "Each of the following will cause an exception (an error). Identify what type of\n",
    "exception each will cause"
   ]
  },
  {
   "cell_type": "code",
   "execution_count": 13,
   "id": "3a9adefb",
   "metadata": {},
   "outputs": [
    {
     "name": "stdout",
     "output_type": "stream",
     "text": [
      "unsupported operand type(s) for +: 'int' and 'str'\n",
      "math domain error\n",
      "list index out of range\n",
      "name 'x_question9' is not defined\n",
      "[Errno 2] No such file or directory: 'bloodtype2.txt'\n"
     ]
    }
   ],
   "source": [
    "import math\n",
    "list_values=[1,2,3,4,5,6,7,8,9,10]\n",
    "\n",
    "try:\n",
    "    6+'a'\n",
    "except Exception as ex:\n",
    "    print(ex)\n",
    "try:\n",
    "    math.sqrt(-1)\n",
    "except Exception as ex:\n",
    "    print(ex)\n",
    "try:\n",
    "    print(list_values[12])\n",
    "except Exception as ex:\n",
    "    print(ex)\n",
    "try:\n",
    "    print(x_question9)\n",
    "except Exception as ex:\n",
    "    print(ex)\n",
    "try:\n",
    "    with open('bloodtype2.txt') as f:\n",
    "        content_main = f.readlines()\n",
    "except Exception as ex:\n",
    "    print(ex)"
   ]
  },
  {
   "cell_type": "markdown",
   "id": "760e06d0",
   "metadata": {},
   "source": [
    "# Question 10\n",
    "\n",
    "Encryption is the process of hiding the meaning of a text by substituting letters in the\n",
    "message with other letters, according to some system. If the process is successful, no\n",
    "one but the intended recipient can understand the encrypted message. Cryptanalysis\n",
    "refers to attempts to undo the encryption, even if some details of the encryption are\n",
    "unknown (for example, if an encrypted message has been intercepted). The first step\n",
    "of cryptanalysis is often to build up a table of letter frequencies in the encrypted text.\n",
    "Assume that the string letters is already defined as\n",
    "'abcdefghijklmnopqrstuvwxyz'. Write a function called frequencies()\n",
    "that takes a string as its only parameter, and returns a list of integers, showing the\n",
    "number of times each character appears in the text. Your function may ignore any\n",
    "characters that are not in letters. \n"
   ]
  },
  {
   "cell_type": "code",
   "execution_count": 7,
   "id": "dfc0c077",
   "metadata": {},
   "outputs": [
    {
     "name": "stdout",
     "output_type": "stream",
     "text": [
      "Enter String : apple\n"
     ]
    },
    {
     "data": {
      "text/plain": [
       "[1, 0, 0, 0, 1, 0, 0, 0, 0, 0, 0, 1, 0, 0, 0, 2, 0, 0, 0, 0, 0, 0, 0, 0, 0, 0]"
      ]
     },
     "execution_count": 7,
     "metadata": {},
     "output_type": "execute_result"
    }
   ],
   "source": [
    "def frequencies():\n",
    "    alphabet='abcdefghijklmnopqrstuvwxyz'\n",
    "    userString=input(\"Enter String : \").lower()\n",
    "    encript_dict=[]\n",
    "    encript_list=[]\n",
    "    for i in range(0,len(alphabet)):\n",
    "        count=0\n",
    "        if alphabet[i] in userString:\n",
    "            for j in userString:\n",
    "                if j==alphabet[i]:\n",
    "                    count=count+1\n",
    "            encript_dict.append({alphabet[i]:count})\n",
    "        else:\n",
    "            encript_dict.append({alphabet[i]:count})\n",
    "    encript_dict\n",
    "    for dict_values in encript_dict:\n",
    "        for keys,values in dict_values.items():\n",
    "            encript_list.append(values)\n",
    "    return encript_list\n",
    "return_values=frequencies()\n",
    "return_values"
   ]
  },
  {
   "cell_type": "code",
   "execution_count": null,
   "id": "4fdcd829",
   "metadata": {},
   "outputs": [],
   "source": []
  },
  {
   "cell_type": "code",
   "execution_count": null,
   "id": "cdbd0018",
   "metadata": {},
   "outputs": [],
   "source": []
  }
 ],
 "metadata": {
  "kernelspec": {
   "display_name": "Python 3 (ipykernel)",
   "language": "python",
   "name": "python3"
  },
  "language_info": {
   "codemirror_mode": {
    "name": "ipython",
    "version": 3
   },
   "file_extension": ".py",
   "mimetype": "text/x-python",
   "name": "python",
   "nbconvert_exporter": "python",
   "pygments_lexer": "ipython3",
   "version": "3.7.4"
  }
 },
 "nbformat": 4,
 "nbformat_minor": 5
}
